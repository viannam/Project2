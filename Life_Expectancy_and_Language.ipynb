{
 "cells": [
  {
   "cell_type": "markdown",
   "id": "3d1d2ec0-83d8-4c2d-a495-d422570fd49d",
   "metadata": {},
   "source": [
    "## **Background Information:**\n",
    "A database is a file that is organized for storing data. Many databases function like a dictionary where they map keys to values. Databases maintain quick performance for large amounts of data by building indexes as data is added to the database. \n",
    "\n",
    "SQLite is a database system that is used for a wide variety of purposes and is built into python. Database commands are expressed in Structured Query Language or SQL to provide a standardized method across many different database vendors. Some of the most important and basic SQL commands are INSERT, SELECT, UPDATE, and DELETE.\n",
    "\n",
    "The developers of MySQL have a publicly available databased named “world”. This database consists of three tables: cities (containing information on cities around the world i.e. name, country code, district, and population), countries (containing data on countries and information about them), and country language (containing languages spoken in each country). "
   ]
  },
  {
   "cell_type": "markdown",
   "id": "2c34a1ec-b4e4-4ad7-8818-974ed1eab1cb",
   "metadata": {},
   "source": [
    "## **Script Objective:**\n",
    "* **The goal of this script** is to use select, join, pandas as pd, and the update function on world.sqlite database.\n",
    "* **More specifically,** the query from this script selects data from the country table where the life expectancy is greater than 80 years old and then merges this data with the countrylanguage table to see what is the main language of that particular country (with a cutoff value of the percentage of the language being spoken is greater than 50%). "
   ]
  },
  {
   "cell_type": "code",
   "execution_count": null,
   "id": "099c9393-a675-46a4-9069-ece337f4d671",
   "metadata": {},
   "outputs": [],
   "source": [
    "#!/usr/bin/env python\n",
    "from sqlalchemy import create_engine\n",
    "from sqlalchemy import MetaData\n",
    "from sqlalchemy import Table, Column\n",
    "from sqlalchemy import Integer, String\n",
    "from sqlalchemy import sql, select, join, desc\n",
    "\n",
    "# Create a Engine object which is our handle into the database.\n",
    "engine = create_engine('sqlite:///.../world.sqlite')\n",
    "\n",
    "# Connect to the database\n",
    "conn = engine.connect()\n",
    "\n",
    "# Read the metadata from the existing database.\n",
    "#  Since the database already exists and has tables defined, we can create Python objects based on these automatically.\n",
    "DBInfo=MetaData(engine)"
   ]
  },
  {
   "cell_type": "code",
   "execution_count": 4,
   "id": "35a1ab12-2b54-42b6-bd92-3214ca8685d6",
   "metadata": {},
   "outputs": [
    {
     "name": "stdout",
     "output_type": "stream",
     "text": [
      "('AND', 'Andorra', Decimal('83.5000000000'))\n",
      "('MAC', 'Macao', Decimal('81.6000000000'))\n",
      "('SMR', 'San Marino', Decimal('81.1000000000'))\n",
      "('JPN', 'Japan', Decimal('80.7000000000'))\n",
      "('SGP', 'Singapore', Decimal('80.1000000000'))\n",
      "<sqlalchemy.engine.result.ResultProxy object at 0x2ad7c0267f70>\n"
     ]
    }
   ],
   "source": [
    "# Create a country object based on the metadata\n",
    "country=Table('country', DBInfo, autoload=True)\n",
    "\n",
    "\n",
    "#SELECT country code, name, and life expectancy FROM country \n",
    "#WHERE life expectancy  > 80 ORDER BY Life Expectancy DESC LIMIT 10;\n",
    "\n",
    "query=select([country.c.Code, country.c.Name, country.c.LifeExpectancy])\\\n",
    "             .where(country.c.LifeExpectancy > 80)\\\n",
    "             .order_by(desc(country.c.LifeExpectancy))\\\n",
    "             .limit(10)\n",
    "result = conn.execute(query)\n",
    "for row in result:\n",
    "    print(row)\n",
    "print(result)"
   ]
  },
  {
   "cell_type": "code",
   "execution_count": 5,
   "id": "64210294-19e8-4745-85a5-7fc4fd41e310",
   "metadata": {},
   "outputs": [
    {
     "name": "stdout",
     "output_type": "stream",
     "text": [
      "('Andorra', Decimal('83.5000000000'), 'Spanish', Decimal('44.6000000000'))\n",
      "('Macao', Decimal('81.6000000000'), 'Canton Chinese', Decimal('85.6000000000'))\n",
      "('San Marino', Decimal('81.1000000000'), 'Italian', Decimal('100.0000000000'))\n",
      "('Japan', Decimal('80.7000000000'), 'Japanese', Decimal('99.1000000000'))\n",
      "('Singapore', Decimal('80.1000000000'), 'Chinese', Decimal('77.1000000000'))\n"
     ]
    }
   ],
   "source": [
    "#SELECT country code, name, and life expectancy FROM country \n",
    "#WHERE life expectancy  > 80 ORDER BY Life Expectancy DESC LIMIT 10;\n",
    "#JOIN countrylanguage ON Code=Country Name \n",
    "#WHERE Language='Portuguese' ORDER BY Percentage DESC;\n",
    "\n",
    "country=Table('country', DBInfo, autoload=True)\n",
    "countrylanguage=Table('countrylanguage', DBInfo, autoload=True)\n",
    "\n",
    "query=(select([country.c.Name, country.c.LifeExpectancy, countrylanguage.c.Language, countrylanguage.c.Percentage])\\\n",
    "      .select_from(country.join(countrylanguage)).where(country.c.LifeExpectancy > 80).where(countrylanguage.c.Percentage > 40)\\\n",
    "      .order_by(desc(country.c.LifeExpectancy)))\n",
    "result = conn.execute(query)\n",
    "for row in result:\n",
    "    print(row)"
   ]
  },
  {
   "cell_type": "code",
   "execution_count": 6,
   "id": "9f531468-bd49-4286-a918-d1e034f42854",
   "metadata": {},
   "outputs": [
    {
     "name": "stdout",
     "output_type": "stream",
     "text": [
      "      Country  Life_Expectancy        Language\n",
      "0      Andora             83.5         Spanish\n",
      "1       Macao             81.6  Canton Chinese\n",
      "2  San Marino             81.1         Italian\n",
      "3       Japan             80.7        Japanese\n",
      "4   Singapore             80.1         Chinese\n"
     ]
    }
   ],
   "source": [
    "import pandas as pd\n",
    "\n",
    "data = {'Country': ['Andora', 'Macao','San Marino', 'Japan','Singapore'],\n",
    "        'Life_Expectancy': [83.50, 81.60, 81.10, 80.70, 80.10],\n",
    "        'Language': ['Spanish', 'Canton Chinese', 'Italian', 'Japanese', 'Chinese']\n",
    "        }\n",
    "\n",
    "df = pd.DataFrame(data)\n",
    "\n",
    "print(df)"
   ]
  },
  {
   "cell_type": "code",
   "execution_count": 7,
   "id": "4b715093-5e83-4f59-bc6c-1d1c03cd621f",
   "metadata": {},
   "outputs": [
    {
     "name": "stdout",
     "output_type": "stream",
     "text": [
      "('CAN', 'Canada', 'Elisabeth II')\n"
     ]
    }
   ],
   "source": [
    "#Updating a database: first location who the Head of state is in Canada in this table\n",
    "#Charles III is the new head of state \n",
    "\n",
    "query=select([country.c.Code, country.c.Name, country.c.HeadOfState]).where(country.c.Name == 'Canada')\n",
    "result = conn.execute(query)\n",
    "for row in result:\n",
    "    print(row)"
   ]
  },
  {
   "cell_type": "code",
   "execution_count": null,
   "id": "cccbd6b7-9068-420e-ad8f-34cad0a043d9",
   "metadata": {},
   "outputs": [],
   "source": []
  }
 ],
 "metadata": {
  "kernelspec": {
   "display_name": "UFRC Python-3.10",
   "language": "python",
   "name": "python3-3.10-ufrc"
  },
  "language_info": {
   "codemirror_mode": {
    "name": "ipython",
    "version": 3
   },
   "file_extension": ".py",
   "mimetype": "text/x-python",
   "name": "python",
   "nbconvert_exporter": "python",
   "pygments_lexer": "ipython3",
   "version": "3.10.5"
  }
 },
 "nbformat": 4,
 "nbformat_minor": 5
}
