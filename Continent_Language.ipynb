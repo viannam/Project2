{
 "cells": [
  {
   "cell_type": "markdown",
   "id": "47ea4376-ab07-4a73-adce-2dd8f04ea76c",
   "metadata": {
    "jupyter": {
     "source_hidden": true
    },
    "tags": []
   },
   "source": [
    "# Data Importation and Pre-processing"
   ]
  },
  {
   "cell_type": "code",
   "execution_count": null,
   "id": "f1afb031-dcc0-4c52-917e-a27e6965a24f",
   "metadata": {},
   "outputs": [],
   "source": [
    "#Import data\n",
    "\n",
    "from sqlalchemy import create_engine\n",
    "from sqlalchemy import MetaData\n",
    "from sqlalchemy import Table, Column\n",
    "from sqlalchemy import Integer, String\n",
    "from sqlalchemy import sql, select, join, desc\n",
    "from sqlalchemy import inspect\n",
    "\n",
    "# Create a Engine object which is our handle into the database.\n",
    "engine = create_engine('sqlite:////blue/bsc4452/share/Class_Files/data/world.sqlite')\n",
    "\n",
    "# Connect to the database\n",
    "conn = engine.connect() #conextion"
   ]
  },
  {
   "cell_type": "code",
   "execution_count": null,
   "id": "2f6c9ddb-af6a-4f91-8464-67042e8c2f84",
   "metadata": {},
   "outputs": [],
   "source": [
    "# Read the metadata from the existing database.\n",
    "DBInfo=MetaData(engine)"
   ]
  },
  {
   "cell_type": "code",
   "execution_count": null,
   "id": "02fd9016-15ad-42db-a6b4-d1ffb39bd6c4",
   "metadata": {
    "tags": []
   },
   "outputs": [],
   "source": [
    "#Check tables present in engine\n",
    "inspector = inspect(engine)\n",
    "schemas = inspector.get_schema_names()\n",
    "print(inspector.get_table_names())"
   ]
  },
  {
   "cell_type": "code",
   "execution_count": null,
   "id": "5db2c40b-5976-433a-a511-a18767c5f3b6",
   "metadata": {},
   "outputs": [],
   "source": [
    "# Auto-create the city object basedon the metadata read into the DBInfo.\n",
    "country=Table('country', DBInfo, autoload=True)\n",
    "city=Table('city', DBInfo, autoload=True)\n",
    "language=Table('countrylanguage', DBInfo, autoload=True)"
   ]
  },
  {
   "cell_type": "markdown",
   "id": "05c83ce8-f4a2-476f-af86-0924708bf0f2",
   "metadata": {},
   "source": [
    "# Function: Continent Language Information"
   ]
  },
  {
   "cell_type": "markdown",
   "id": "25a7a1d7-3665-4ee5-875a-c73ca2aad6c8",
   "metadata": {},
   "source": [
    "This function provides information about the langauge spoken in a country. The user will provide the name of the continent, then select a name of country from the list provided. The continent and country name will be verified and returns the country's:\n",
    "* all spoken language(s)\n",
    "* official language(s)\n",
    "* most spoken language and\n",
    "* other countries where the most spoken langauge is spoken on the continent."
   ]
  },
  {
   "cell_type": "code",
   "execution_count": null,
   "id": "941af697-b4f6-407f-b24e-ffe9724cbb41",
   "metadata": {},
   "outputs": [],
   "source": [
    "print(\"------------------------------- Continent Info -------------------------------\")\n",
    "continent_lst = ['Africa','Asia','Europe','North America','South America','Oceania']\n",
    "\n",
    "#Check if country is present in the list\n",
    "while True:\n",
    "    #print(\"-------------------------\")\n",
    "    print(\"Enter the name of any continent of your choice.\")\n",
    "    name = input(\"Enter Africa, Asia,Europe,North America, Oceania or South America: \")\n",
    "    name.lower()\n",
    "    continent = name.title()\n",
    "    if continent not in continent_lst:\n",
    "        print(f\"{continent} not found. Try again!\")\n",
    "    else:\n",
    "        print(f\"{continent} found!\")\n",
    "        break\n",
    "\n",
    "#Query data\n",
    "query1=(select([country.c.Name,country.c.Continent,language.c.Language,language.c.IsOfficial,language.c.Percentage])\\\n",
    "        .select_from(country.join(language))\\\n",
    "        .where(country.c.Continent == continent))\n",
    "cLang = conn.execute(query1)\n",
    "\n",
    "cLang1 = []\n",
    "for row in cLang:\n",
    "    cLang1.append(row)\n",
    "\n",
    "#Function for getting information summary about a continent\n",
    "def continentSummary(cLang1):\n",
    "    country_lst = []\n",
    "    for index in range(len(cLang1)):\n",
    "        if cLang1[index][0] not in country_lst: \n",
    "            country_lst.append(cLang1[index][0])\n",
    "    country_lst.sort()\n",
    "    return(country_lst)\n",
    "\n",
    "print(\"------------------------------- Continent Summary -------------------------------\")\n",
    "countryLst = continentSummary(cLang1)\n",
    "print(countryLst)\n",
    "\n",
    "\n",
    "#Check if country is present in the list\n",
    "while True:\n",
    "    print(\"-------------------------\")\n",
    "    name = input(\"Select a country name from the country list above: \")\n",
    "    cName = name.title()\n",
    "    if cName not in countryLst:\n",
    "        print(f\"{cName} not found. Try again!\")\n",
    "    else:\n",
    "        print(f\"{cName} found!\")\n",
    "        break\n",
    "\n",
    "\n",
    "cName_lst = []\n",
    "offLang = []\n",
    "hLang = 0\n",
    "otherCountries = []\n",
    "\n",
    "for index in range(len(cLang1)):\n",
    "    #print()\n",
    "    if cName == cLang1[index][0]:\n",
    "        cName_lst.append(cLang1[index][2])\n",
    "        offLang_T = cLang1[index][3]\n",
    "        try:\n",
    "            if offLang_T == 'T':\n",
    "                offLang.append(cLang1[index][2])\n",
    "        except:\n",
    "            continue\n",
    "        perLang = cLang1[index][4]\n",
    "        try:\n",
    "            if perLang > hLang:\n",
    "                hLang = perLang\n",
    "                mostSpokenLang = cLang1[index][2:]\n",
    "                #print(mostSpokenLang)\n",
    "        except:\n",
    "            continue\n",
    "    if mostSpokenLang[0] == cLang1[index][2] and cName != cLang1[index][0]:\n",
    "        otherCountries.append(cLang1[index][0])\n",
    "    else:\n",
    "        continue\n",
    "\n",
    "#print(mostSpokenLang)\n",
    "#print(otherCountries)\n",
    "\n",
    "print(f\"Languages spoken in {cName} are: {cName_lst}.\")\n",
    "print(\"--------\")\n",
    "if len(offLang) == 0:\n",
    "    print(f\"{cName} has no official language.\")\n",
    "else:\n",
    "    print(f\"The official language in {cName} is {offLang}.\")\n",
    "print(\"--------\")\n",
    "print(f\"The most spoken language in {cName} is {mostSpokenLang[0]} by {round(mostSpokenLang[2],0)}% of the population.\")\n",
    "print(\"--------\")\n",
    "if len(otherCountries) == 0:\n",
    "    print(f\"{mostSpokenLang[0]} is not spoken in other countries in {continent}.\")\n",
    "else:\n",
    "    print(f\"{mostSpokenLang[0]} is spoken in {otherCountries} in {continent}.\")\n",
    "\n"
   ]
  }
 ],
 "metadata": {
  "kernelspec": {
   "display_name": "Python 3 (ipykernel)",
   "language": "python",
   "name": "python3"
  },
  "language_info": {
   "codemirror_mode": {
    "name": "ipython",
    "version": 3
   },
   "file_extension": ".py",
   "mimetype": "text/x-python",
   "name": "python",
   "nbconvert_exporter": "python",
   "pygments_lexer": "ipython3",
   "version": "3.8.1"
  }
 },
 "nbformat": 4,
 "nbformat_minor": 5
}
